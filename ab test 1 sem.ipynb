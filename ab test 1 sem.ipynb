{
 "cells": [
  {
   "cell_type": "markdown",
   "id": "9d38d905",
   "metadata": {},
   "source": [
    "На сайте запущен А/В тест с целью увеличить доход. В приложенном excel файле вы найдете сырые данные по результатам эксперимента – user_id, тип выборки variant_name и доход принесенный пользователем revenue.\n",
    "Проанализируйте результаты эксперимента и напишите свои рекомендации менеджеру."
   ]
  },
  {
   "cell_type": "code",
   "execution_count": 1,
   "id": "ea8a3dc8",
   "metadata": {},
   "outputs": [],
   "source": [
    "import pandas as pd\n",
    "import numpy as np\n",
    "from scipy import stats\n",
    "import matplotlib.pyplot as plt\n"
   ]
  },
  {
   "cell_type": "code",
   "execution_count": 2,
   "id": "a9e758d5",
   "metadata": {},
   "outputs": [
    {
     "name": "stderr",
     "output_type": "stream",
     "text": [
      "C:\\Users\\nkita\\anaconda3\\lib\\site-packages\\openpyxl\\worksheet\\_reader.py:312: UserWarning: Unknown extension is not supported and will be removed\n",
      "  warn(msg)\n"
     ]
    }
   ],
   "source": [
    "df = pd.read_excel('AB_Test_Results (2).xlsx')"
   ]
  },
  {
   "cell_type": "code",
   "execution_count": 4,
   "id": "c0214ba1",
   "metadata": {},
   "outputs": [
    {
     "data": {
      "text/html": [
       "<div>\n",
       "<style scoped>\n",
       "    .dataframe tbody tr th:only-of-type {\n",
       "        vertical-align: middle;\n",
       "    }\n",
       "\n",
       "    .dataframe tbody tr th {\n",
       "        vertical-align: top;\n",
       "    }\n",
       "\n",
       "    .dataframe thead th {\n",
       "        text-align: right;\n",
       "    }\n",
       "</style>\n",
       "<table border=\"1\" class=\"dataframe\">\n",
       "  <thead>\n",
       "    <tr style=\"text-align: right;\">\n",
       "      <th></th>\n",
       "      <th>USER_ID</th>\n",
       "      <th>VARIANT_NAME</th>\n",
       "      <th>REVENUE</th>\n",
       "    </tr>\n",
       "  </thead>\n",
       "  <tbody>\n",
       "    <tr>\n",
       "      <th>0</th>\n",
       "      <td>737</td>\n",
       "      <td>variant</td>\n",
       "      <td>0.0</td>\n",
       "    </tr>\n",
       "    <tr>\n",
       "      <th>1</th>\n",
       "      <td>2423</td>\n",
       "      <td>control</td>\n",
       "      <td>0.0</td>\n",
       "    </tr>\n",
       "    <tr>\n",
       "      <th>2</th>\n",
       "      <td>9411</td>\n",
       "      <td>control</td>\n",
       "      <td>0.0</td>\n",
       "    </tr>\n",
       "    <tr>\n",
       "      <th>3</th>\n",
       "      <td>7311</td>\n",
       "      <td>control</td>\n",
       "      <td>0.0</td>\n",
       "    </tr>\n",
       "    <tr>\n",
       "      <th>4</th>\n",
       "      <td>6174</td>\n",
       "      <td>variant</td>\n",
       "      <td>0.0</td>\n",
       "    </tr>\n",
       "    <tr>\n",
       "      <th>5</th>\n",
       "      <td>2380</td>\n",
       "      <td>variant</td>\n",
       "      <td>0.0</td>\n",
       "    </tr>\n",
       "    <tr>\n",
       "      <th>6</th>\n",
       "      <td>2849</td>\n",
       "      <td>control</td>\n",
       "      <td>0.0</td>\n",
       "    </tr>\n",
       "    <tr>\n",
       "      <th>7</th>\n",
       "      <td>9168</td>\n",
       "      <td>control</td>\n",
       "      <td>0.0</td>\n",
       "    </tr>\n",
       "    <tr>\n",
       "      <th>8</th>\n",
       "      <td>6205</td>\n",
       "      <td>variant</td>\n",
       "      <td>0.0</td>\n",
       "    </tr>\n",
       "    <tr>\n",
       "      <th>9</th>\n",
       "      <td>7548</td>\n",
       "      <td>control</td>\n",
       "      <td>0.0</td>\n",
       "    </tr>\n",
       "  </tbody>\n",
       "</table>\n",
       "</div>"
      ],
      "text/plain": [
       "   USER_ID VARIANT_NAME  REVENUE\n",
       "0      737      variant      0.0\n",
       "1     2423      control      0.0\n",
       "2     9411      control      0.0\n",
       "3     7311      control      0.0\n",
       "4     6174      variant      0.0\n",
       "5     2380      variant      0.0\n",
       "6     2849      control      0.0\n",
       "7     9168      control      0.0\n",
       "8     6205      variant      0.0\n",
       "9     7548      control      0.0"
      ]
     },
     "execution_count": 4,
     "metadata": {},
     "output_type": "execute_result"
    }
   ],
   "source": [
    "df.head(10)"
   ]
  },
  {
   "cell_type": "code",
   "execution_count": 8,
   "id": "d3b66f53",
   "metadata": {},
   "outputs": [
    {
     "name": "stdout",
     "output_type": "stream",
     "text": [
      "<class 'pandas.core.frame.DataFrame'>\n",
      "RangeIndex: 10000 entries, 0 to 9999\n",
      "Data columns (total 3 columns):\n",
      " #   Column        Non-Null Count  Dtype  \n",
      "---  ------        --------------  -----  \n",
      " 0   USER_ID       10000 non-null  int64  \n",
      " 1   VARIANT_NAME  10000 non-null  object \n",
      " 2   REVENUE       10000 non-null  float64\n",
      "dtypes: float64(1), int64(1), object(1)\n",
      "memory usage: 234.5+ KB\n"
     ]
    }
   ],
   "source": [
    "df.info()"
   ]
  },
  {
   "cell_type": "markdown",
   "id": "7cabbe39",
   "metadata": {},
   "source": [
    "Пустых строк нет"
   ]
  },
  {
   "cell_type": "code",
   "execution_count": 9,
   "id": "7e33be5f",
   "metadata": {},
   "outputs": [
    {
     "data": {
      "text/html": [
       "<div>\n",
       "<style scoped>\n",
       "    .dataframe tbody tr th:only-of-type {\n",
       "        vertical-align: middle;\n",
       "    }\n",
       "\n",
       "    .dataframe tbody tr th {\n",
       "        vertical-align: top;\n",
       "    }\n",
       "\n",
       "    .dataframe thead th {\n",
       "        text-align: right;\n",
       "    }\n",
       "</style>\n",
       "<table border=\"1\" class=\"dataframe\">\n",
       "  <thead>\n",
       "    <tr style=\"text-align: right;\">\n",
       "      <th></th>\n",
       "      <th>USER_ID</th>\n",
       "      <th>REVENUE</th>\n",
       "    </tr>\n",
       "  </thead>\n",
       "  <tbody>\n",
       "    <tr>\n",
       "      <th>count</th>\n",
       "      <td>10000.000000</td>\n",
       "      <td>10000.000000</td>\n",
       "    </tr>\n",
       "    <tr>\n",
       "      <th>mean</th>\n",
       "      <td>4981.080200</td>\n",
       "      <td>0.099447</td>\n",
       "    </tr>\n",
       "    <tr>\n",
       "      <th>std</th>\n",
       "      <td>2890.590115</td>\n",
       "      <td>2.318529</td>\n",
       "    </tr>\n",
       "    <tr>\n",
       "      <th>min</th>\n",
       "      <td>2.000000</td>\n",
       "      <td>0.000000</td>\n",
       "    </tr>\n",
       "    <tr>\n",
       "      <th>25%</th>\n",
       "      <td>2468.750000</td>\n",
       "      <td>0.000000</td>\n",
       "    </tr>\n",
       "    <tr>\n",
       "      <th>50%</th>\n",
       "      <td>4962.000000</td>\n",
       "      <td>0.000000</td>\n",
       "    </tr>\n",
       "    <tr>\n",
       "      <th>75%</th>\n",
       "      <td>7511.500000</td>\n",
       "      <td>0.000000</td>\n",
       "    </tr>\n",
       "    <tr>\n",
       "      <th>max</th>\n",
       "      <td>10000.000000</td>\n",
       "      <td>196.010000</td>\n",
       "    </tr>\n",
       "  </tbody>\n",
       "</table>\n",
       "</div>"
      ],
      "text/plain": [
       "            USER_ID       REVENUE\n",
       "count  10000.000000  10000.000000\n",
       "mean    4981.080200      0.099447\n",
       "std     2890.590115      2.318529\n",
       "min        2.000000      0.000000\n",
       "25%     2468.750000      0.000000\n",
       "50%     4962.000000      0.000000\n",
       "75%     7511.500000      0.000000\n",
       "max    10000.000000    196.010000"
      ]
     },
     "execution_count": 9,
     "metadata": {},
     "output_type": "execute_result"
    }
   ],
   "source": [
    "df.describe()"
   ]
  },
  {
   "cell_type": "code",
   "execution_count": 10,
   "id": "8b0ff05b",
   "metadata": {},
   "outputs": [
    {
     "data": {
      "text/plain": [
       "USER_ID         0\n",
       "VARIANT_NAME    0\n",
       "REVENUE         0\n",
       "dtype: int64"
      ]
     },
     "execution_count": 10,
     "metadata": {},
     "output_type": "execute_result"
    }
   ],
   "source": [
    "df.isna().sum()"
   ]
  },
  {
   "cell_type": "markdown",
   "id": "bced9b75",
   "metadata": {},
   "source": [
    "Убеждаемся в отсутствии пустых строк"
   ]
  },
  {
   "cell_type": "code",
   "execution_count": 12,
   "id": "b76373db",
   "metadata": {},
   "outputs": [
    {
     "data": {
      "text/plain": [
       "variant    5016\n",
       "control    4984\n",
       "Name: VARIANT_NAME, dtype: int64"
      ]
     },
     "execution_count": 12,
     "metadata": {},
     "output_type": "execute_result"
    }
   ],
   "source": [
    "df.VARIANT_NAME.value_counts()"
   ]
  },
  {
   "cell_type": "markdown",
   "id": "26677301",
   "metadata": {},
   "source": [
    "Количество пользователей в тестовой и контрольной версиях примерно одинаковы"
   ]
  },
  {
   "cell_type": "code",
   "execution_count": 15,
   "id": "b18cbc19",
   "metadata": {},
   "outputs": [],
   "source": [
    "v = df.groupby('USER_ID', as_index=False).agg({'VARIANT_NAME': pd.Series.nunique})"
   ]
  },
  {
   "cell_type": "code",
   "execution_count": 16,
   "id": "58c53d89",
   "metadata": {},
   "outputs": [
    {
     "data": {
      "text/html": [
       "<div>\n",
       "<style scoped>\n",
       "    .dataframe tbody tr th:only-of-type {\n",
       "        vertical-align: middle;\n",
       "    }\n",
       "\n",
       "    .dataframe tbody tr th {\n",
       "        vertical-align: top;\n",
       "    }\n",
       "\n",
       "    .dataframe thead th {\n",
       "        text-align: right;\n",
       "    }\n",
       "</style>\n",
       "<table border=\"1\" class=\"dataframe\">\n",
       "  <thead>\n",
       "    <tr style=\"text-align: right;\">\n",
       "      <th></th>\n",
       "      <th>USER_ID</th>\n",
       "      <th>VARIANT_NAME</th>\n",
       "    </tr>\n",
       "  </thead>\n",
       "  <tbody>\n",
       "    <tr>\n",
       "      <th>0</th>\n",
       "      <td>2</td>\n",
       "      <td>1</td>\n",
       "    </tr>\n",
       "    <tr>\n",
       "      <th>1</th>\n",
       "      <td>3</td>\n",
       "      <td>2</td>\n",
       "    </tr>\n",
       "    <tr>\n",
       "      <th>2</th>\n",
       "      <td>4</td>\n",
       "      <td>1</td>\n",
       "    </tr>\n",
       "    <tr>\n",
       "      <th>3</th>\n",
       "      <td>5</td>\n",
       "      <td>1</td>\n",
       "    </tr>\n",
       "    <tr>\n",
       "      <th>4</th>\n",
       "      <td>6</td>\n",
       "      <td>1</td>\n",
       "    </tr>\n",
       "    <tr>\n",
       "      <th>5</th>\n",
       "      <td>9</td>\n",
       "      <td>1</td>\n",
       "    </tr>\n",
       "    <tr>\n",
       "      <th>6</th>\n",
       "      <td>10</td>\n",
       "      <td>2</td>\n",
       "    </tr>\n",
       "    <tr>\n",
       "      <th>7</th>\n",
       "      <td>11</td>\n",
       "      <td>1</td>\n",
       "    </tr>\n",
       "    <tr>\n",
       "      <th>8</th>\n",
       "      <td>12</td>\n",
       "      <td>1</td>\n",
       "    </tr>\n",
       "    <tr>\n",
       "      <th>9</th>\n",
       "      <td>13</td>\n",
       "      <td>1</td>\n",
       "    </tr>\n",
       "  </tbody>\n",
       "</table>\n",
       "</div>"
      ],
      "text/plain": [
       "   USER_ID  VARIANT_NAME\n",
       "0        2             1\n",
       "1        3             2\n",
       "2        4             1\n",
       "3        5             1\n",
       "4        6             1\n",
       "5        9             1\n",
       "6       10             2\n",
       "7       11             1\n",
       "8       12             1\n",
       "9       13             1"
      ]
     },
     "execution_count": 16,
     "metadata": {},
     "output_type": "execute_result"
    }
   ],
   "source": [
    "v.head(10)"
   ]
  },
  {
   "cell_type": "code",
   "execution_count": 17,
   "id": "fbc72da0",
   "metadata": {},
   "outputs": [],
   "source": [
    "x = v.query('VARIANT_NAME > 1')"
   ]
  },
  {
   "cell_type": "code",
   "execution_count": 18,
   "id": "fe112fec",
   "metadata": {},
   "outputs": [],
   "source": [
    "df = df[~df.USER_ID.isin(x.USER_ID)].sort_values('USER_ID')"
   ]
  },
  {
   "cell_type": "code",
   "execution_count": 20,
   "id": "e229d33e",
   "metadata": {},
   "outputs": [
    {
     "data": {
      "text/html": [
       "<div>\n",
       "<style scoped>\n",
       "    .dataframe tbody tr th:only-of-type {\n",
       "        vertical-align: middle;\n",
       "    }\n",
       "\n",
       "    .dataframe tbody tr th {\n",
       "        vertical-align: top;\n",
       "    }\n",
       "\n",
       "    .dataframe thead th {\n",
       "        text-align: right;\n",
       "    }\n",
       "</style>\n",
       "<table border=\"1\" class=\"dataframe\">\n",
       "  <thead>\n",
       "    <tr style=\"text-align: right;\">\n",
       "      <th></th>\n",
       "      <th>USER_ID</th>\n",
       "      <th>VARIANT_NAME</th>\n",
       "      <th>REVENUE</th>\n",
       "    </tr>\n",
       "  </thead>\n",
       "  <tbody>\n",
       "    <tr>\n",
       "      <th>3479</th>\n",
       "      <td>2</td>\n",
       "      <td>control</td>\n",
       "      <td>0.0</td>\n",
       "    </tr>\n",
       "    <tr>\n",
       "      <th>7076</th>\n",
       "      <td>2</td>\n",
       "      <td>control</td>\n",
       "      <td>0.0</td>\n",
       "    </tr>\n",
       "    <tr>\n",
       "      <th>2406</th>\n",
       "      <td>2</td>\n",
       "      <td>control</td>\n",
       "      <td>0.0</td>\n",
       "    </tr>\n",
       "    <tr>\n",
       "      <th>9077</th>\n",
       "      <td>4</td>\n",
       "      <td>variant</td>\n",
       "      <td>0.0</td>\n",
       "    </tr>\n",
       "    <tr>\n",
       "      <th>9155</th>\n",
       "      <td>5</td>\n",
       "      <td>variant</td>\n",
       "      <td>0.0</td>\n",
       "    </tr>\n",
       "    <tr>\n",
       "      <th>...</th>\n",
       "      <td>...</td>\n",
       "      <td>...</td>\n",
       "      <td>...</td>\n",
       "    </tr>\n",
       "    <tr>\n",
       "      <th>3260</th>\n",
       "      <td>9992</td>\n",
       "      <td>control</td>\n",
       "      <td>0.0</td>\n",
       "    </tr>\n",
       "    <tr>\n",
       "      <th>9290</th>\n",
       "      <td>9993</td>\n",
       "      <td>control</td>\n",
       "      <td>0.0</td>\n",
       "    </tr>\n",
       "    <tr>\n",
       "      <th>2749</th>\n",
       "      <td>9995</td>\n",
       "      <td>variant</td>\n",
       "      <td>0.0</td>\n",
       "    </tr>\n",
       "    <tr>\n",
       "      <th>5673</th>\n",
       "      <td>9995</td>\n",
       "      <td>variant</td>\n",
       "      <td>0.0</td>\n",
       "    </tr>\n",
       "    <tr>\n",
       "      <th>1064</th>\n",
       "      <td>9998</td>\n",
       "      <td>control</td>\n",
       "      <td>0.0</td>\n",
       "    </tr>\n",
       "  </tbody>\n",
       "</table>\n",
       "<p>6070 rows × 3 columns</p>\n",
       "</div>"
      ],
      "text/plain": [
       "      USER_ID VARIANT_NAME  REVENUE\n",
       "3479        2      control      0.0\n",
       "7076        2      control      0.0\n",
       "2406        2      control      0.0\n",
       "9077        4      variant      0.0\n",
       "9155        5      variant      0.0\n",
       "...       ...          ...      ...\n",
       "3260     9992      control      0.0\n",
       "9290     9993      control      0.0\n",
       "2749     9995      variant      0.0\n",
       "5673     9995      variant      0.0\n",
       "1064     9998      control      0.0\n",
       "\n",
       "[6070 rows x 3 columns]"
      ]
     },
     "execution_count": 20,
     "metadata": {},
     "output_type": "execute_result"
    }
   ],
   "source": [
    "df"
   ]
  },
  {
   "cell_type": "code",
   "execution_count": 27,
   "id": "40ab7c1c",
   "metadata": {},
   "outputs": [],
   "source": [
    "control = df[df['VARIANT_NAME'] == \"control\"]\n",
    "test = df[df['VARIANT_NAME'] == \"variant\"]"
   ]
  },
  {
   "cell_type": "code",
   "execution_count": 28,
   "id": "1b38dc0d",
   "metadata": {},
   "outputs": [
    {
     "data": {
      "text/plain": [
       "3026"
      ]
     },
     "execution_count": 28,
     "metadata": {},
     "output_type": "execute_result"
    }
   ],
   "source": [
    "len(control)"
   ]
  },
  {
   "cell_type": "code",
   "execution_count": 29,
   "id": "1b494025",
   "metadata": {},
   "outputs": [
    {
     "data": {
      "text/plain": [
       "3044"
      ]
     },
     "execution_count": 29,
     "metadata": {},
     "output_type": "execute_result"
    }
   ],
   "source": [
    "len(test)"
   ]
  },
  {
   "cell_type": "code",
   "execution_count": 30,
   "id": "d9bd0e34",
   "metadata": {},
   "outputs": [],
   "source": [
    "from scipy.stats import shapiro"
   ]
  },
  {
   "cell_type": "code",
   "execution_count": 32,
   "id": "45bfa7f2",
   "metadata": {},
   "outputs": [
    {
     "data": {
      "text/plain": [
       "ShapiroResult(statistic=0.015946388244628906, pvalue=0.0)"
      ]
     },
     "execution_count": 32,
     "metadata": {},
     "output_type": "execute_result"
    }
   ],
   "source": [
    "alpha = 0.05\n",
    "shapiro(df.REVENUE)"
   ]
  },
  {
   "cell_type": "markdown",
   "id": "d0e2f46f",
   "metadata": {},
   "source": [
    "Распределение не нормальное"
   ]
  },
  {
   "cell_type": "code",
   "execution_count": 37,
   "id": "8f5a9ca9",
   "metadata": {},
   "outputs": [
    {
     "data": {
      "image/png": "[encoded data removed]",
      "text/plain": [
       "<Figure size 432x288 with 1 Axes>"
      ]
     },
     "metadata": {
      "needs_background": "light"
     },
     "output_type": "display_data"
    }
   ],
   "source": [
    "control.REVENUE.hist(bins=25, label='Control')\n",
    "test.REVENUE.hist(bins=25, label='Test')\n",
    "plt.title('Доход на пользователя')\n",
    "plt.xlabel('Доход')\n",
    "plt.ylabel('Число пользователей')\n",
    "plt.legend();"
   ]
  },
  {
   "cell_type": "code",
   "execution_count": 39,
   "id": "9ee6c230",
   "metadata": {},
   "outputs": [
    {
     "data": {
      "text/plain": [
       "MannwhitneyuResult(statistic=4622832.0, pvalue=0.2444173738649208)"
      ]
     },
     "execution_count": 39,
     "metadata": {},
     "output_type": "execute_result"
    }
   ],
   "source": [
    "stats.mannwhitneyu(x=control.REVENUE.values, y=test.REVENUE.values)"
   ]
  },
  {
   "cell_type": "markdown",
   "id": "7dee4e8d",
   "metadata": {},
   "source": [
    "Статистически значимой разницы нет"
   ]
  },
  {
   "cell_type": "code",
   "execution_count": 40,
   "id": "15390ac3",
   "metadata": {},
   "outputs": [
    {
     "data": {
      "text/plain": [
       "Ttest_indResult(statistic=1.403762252371675, pvalue=0.1604844017690842)"
      ]
     },
     "execution_count": 40,
     "metadata": {},
     "output_type": "execute_result"
    }
   ],
   "source": [
    "stats.ttest_ind(control.REVENUE.values, test.REVENUE.values, equal_var=False)"
   ]
  },
  {
   "cell_type": "markdown",
   "id": "8f28659a",
   "metadata": {},
   "source": [
    "Можно сделать вывод, что статистически значимой разницы между двумя группами нет."
   ]
  },
  {
   "cell_type": "code",
   "execution_count": null,
   "id": "5317a55d",
   "metadata": {},
   "outputs": [],
   "source": []
  }
 ],
 "metadata": {
  "kernelspec": {
   "display_name": "Python 3 (ipykernel)",
   "language": "python",
   "name": "python3"
  },
  "language_info": {
   "codemirror_mode": {
    "name": "ipython",
    "version": 3
   },
   "file_extension": ".py",
   "mimetype": "text/x-python",
   "name": "python",
   "nbconvert_exporter": "python",
   "pygments_lexer": "ipython3",
   "version": "3.9.7"
  }
 },
 "nbformat": 4,
 "nbformat_minor": 5
}
